{
 "cells": [
  {
   "cell_type": "code",
   "execution_count": 2,
   "id": "a281569a",
   "metadata": {},
   "outputs": [],
   "source": [
    "import pandas as pd"
   ]
  },
  {
   "cell_type": "code",
   "execution_count": 7,
   "id": "a7021ac9",
   "metadata": {},
   "outputs": [
    {
     "name": "stdout",
     "output_type": "stream",
     "text": [
      "<class 'pandas.core.frame.DataFrame'>\n",
      "RangeIndex: 258082 entries, 0 to 258081\n",
      "Data columns (total 22 columns):\n",
      " #   Column                Non-Null Count   Dtype  \n",
      "---  ------                --------------   -----  \n",
      " 0   ID                    258082 non-null  int64  \n",
      " 1   Case Number           258082 non-null  object \n",
      " 2   Date                  258082 non-null  object \n",
      " 3   Block                 258082 non-null  object \n",
      " 4   IUCR                  258082 non-null  object \n",
      " 5   Primary Type          258082 non-null  object \n",
      " 6   Description           258082 non-null  object \n",
      " 7   Location Description  257054 non-null  object \n",
      " 8   Arrest                258082 non-null  bool   \n",
      " 9   Domestic              258082 non-null  bool   \n",
      " 10  Beat                  258082 non-null  int64  \n",
      " 11  District              258082 non-null  int64  \n",
      " 12  Ward                  258082 non-null  int64  \n",
      " 13  Community Area        258080 non-null  float64\n",
      " 14  FBI Code              258082 non-null  object \n",
      " 15  X Coordinate          257858 non-null  float64\n",
      " 16  Y Coordinate          257858 non-null  float64\n",
      " 17  Year                  258082 non-null  int64  \n",
      " 18  Updated On            258082 non-null  object \n",
      " 19  Latitude              257858 non-null  float64\n",
      " 20  Longitude             257858 non-null  float64\n",
      " 21  Location              257858 non-null  object \n",
      "dtypes: bool(2), float64(5), int64(5), object(10)\n",
      "memory usage: 39.9+ MB\n"
     ]
    }
   ],
   "source": [
    "df_csv = pd.read_csv(\"dataset/Crimes_-_2024_20250502.zip\")\n",
    "\n",
    "df_csv.info()"
   ]
  },
  {
   "cell_type": "code",
   "execution_count": 8,
   "id": "7381929c",
   "metadata": {},
   "outputs": [
    {
     "name": "stdout",
     "output_type": "stream",
     "text": [
      "[2024]\n"
     ]
    }
   ],
   "source": [
    "print(df_csv[\"Year\"].unique())"
   ]
  }
 ],
 "metadata": {
  "kernelspec": {
   "display_name": "add-env",
   "language": "python",
   "name": "python3"
  },
  "language_info": {
   "codemirror_mode": {
    "name": "ipython",
    "version": 3
   },
   "file_extension": ".py",
   "mimetype": "text/x-python",
   "name": "python",
   "nbconvert_exporter": "python",
   "pygments_lexer": "ipython3",
   "version": "3.11.12"
  }
 },
 "nbformat": 4,
 "nbformat_minor": 5
}
